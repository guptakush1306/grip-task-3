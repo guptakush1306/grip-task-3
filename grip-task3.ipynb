{
 "cells": [
  {
   "cell_type": "code",
   "execution_count": 1,
   "id": "a496c0dd",
   "metadata": {
    "_cell_guid": "b1076dfc-b9ad-4769-8c92-a6c4dae69d19",
    "_uuid": "8f2839f25d086af736a60e9eeb907d3b93b6e0e5",
    "execution": {
     "iopub.execute_input": "2021-07-12T05:12:54.392436Z",
     "iopub.status.busy": "2021-07-12T05:12:54.391253Z",
     "iopub.status.idle": "2021-07-12T05:12:54.413110Z",
     "shell.execute_reply": "2021-07-12T05:12:54.412503Z",
     "shell.execute_reply.started": "2021-07-08T10:54:52.439738Z"
    },
    "papermill": {
     "duration": 0.055119,
     "end_time": "2021-07-12T05:12:54.413317",
     "exception": false,
     "start_time": "2021-07-12T05:12:54.358198",
     "status": "completed"
    },
    "tags": []
   },
   "outputs": [
    {
     "name": "stdout",
     "output_type": "stream",
     "text": [
      "/kaggle/input/grip-task-3/SampleSuperstore.csv\n"
     ]
    }
   ],
   "source": [
    "# This Python 3 environment comes with many helpful analytics libraries installed\n",
    "# It is defined by the kaggle/python Docker image: https://github.com/kaggle/docker-python\n",
    "# For example, here's several helpful packages to load\n",
    "\n",
    "import numpy as np # linear algebra\n",
    "import pandas as pd # data processing, CSV file I/O (e.g. pd.read_csv)\n",
    "\n",
    "# Input data files are available in the read-only \"../input/\" directory\n",
    "# For example, running this (by clicking run or pressing Shift+Enter) will list all files under the input directory\n",
    "\n",
    "import os\n",
    "for dirname, _, filenames in os.walk('/kaggle/input'):\n",
    "    for filename in filenames:\n",
    "        print(os.path.join(dirname, filename))\n",
    "\n",
    "# You can write up to 20GB to the current directory (/kaggle/working/) that gets preserved as output when you create a version using \"Save & Run All\" \n",
    "# You can also write temporary files to /kaggle/temp/, but they won't be saved outside of the current session"
   ]
  },
  {
   "cell_type": "markdown",
   "id": "b8af78e4",
   "metadata": {
    "papermill": {
     "duration": 0.027582,
     "end_time": "2021-07-12T05:12:54.470459",
     "exception": false,
     "start_time": "2021-07-12T05:12:54.442877",
     "status": "completed"
    },
    "tags": []
   },
   "source": [
    "# GRIP July 2021\n",
    "# GRIP Task 3\n",
    "# Author ~ Kushagra Gupta\n",
    "# Title ~Exploratory Data Analysis-Retail"
   ]
  },
  {
   "cell_type": "markdown",
   "id": "6d7c1d05",
   "metadata": {
    "papermill": {
     "duration": 0.032193,
     "end_time": "2021-07-12T05:12:54.531672",
     "exception": false,
     "start_time": "2021-07-12T05:12:54.499479",
     "status": "completed"
    },
    "tags": []
   },
   "source": [
    "``importing the libraries``"
   ]
  },
  {
   "cell_type": "code",
   "execution_count": 2,
   "id": "c7e89639",
   "metadata": {
    "execution": {
     "iopub.execute_input": "2021-07-12T05:12:54.598396Z",
     "iopub.status.busy": "2021-07-12T05:12:54.597720Z",
     "iopub.status.idle": "2021-07-12T05:12:55.466696Z",
     "shell.execute_reply": "2021-07-12T05:12:55.466095Z",
     "shell.execute_reply.started": "2021-07-08T10:54:53.0609Z"
    },
    "papermill": {
     "duration": 0.903475,
     "end_time": "2021-07-12T05:12:55.466917",
     "exception": false,
     "start_time": "2021-07-12T05:12:54.563442",
     "status": "completed"
    },
    "tags": []
   },
   "outputs": [],
   "source": [
    "import pandas as pd\n",
    "import numpy as np\n",
    "import  matplotlib.pyplot as plt\n",
    "import seaborn as sns\n"
   ]
  },
  {
   "cell_type": "markdown",
   "id": "e921cabb",
   "metadata": {
    "papermill": {
     "duration": 0.028935,
     "end_time": "2021-07-12T05:12:55.525570",
     "exception": false,
     "start_time": "2021-07-12T05:12:55.496635",
     "status": "completed"
    },
    "tags": []
   },
   "source": [
    "``Reading the csv file``"
   ]
  },
  {
   "cell_type": "code",
   "execution_count": 3,
   "id": "33945b80",
   "metadata": {
    "execution": {
     "iopub.execute_input": "2021-07-12T05:12:55.590679Z",
     "iopub.status.busy": "2021-07-12T05:12:55.590103Z",
     "iopub.status.idle": "2021-07-12T05:12:55.666362Z",
     "shell.execute_reply": "2021-07-12T05:12:55.665444Z",
     "shell.execute_reply.started": "2021-07-08T10:54:53.50822Z"
    },
    "papermill": {
     "duration": 0.110246,
     "end_time": "2021-07-12T05:12:55.666507",
     "exception": false,
     "start_time": "2021-07-12T05:12:55.556261",
     "status": "completed"
    },
    "tags": []
   },
   "outputs": [
    {
     "data": {
      "text/html": [
       "<div>\n",
       "<style scoped>\n",
       "    .dataframe tbody tr th:only-of-type {\n",
       "        vertical-align: middle;\n",
       "    }\n",
       "\n",
       "    .dataframe tbody tr th {\n",
       "        vertical-align: top;\n",
       "    }\n",
       "\n",
       "    .dataframe thead th {\n",
       "        text-align: right;\n",
       "    }\n",
       "</style>\n",
       "<table border=\"1\" class=\"dataframe\">\n",
       "  <thead>\n",
       "    <tr style=\"text-align: right;\">\n",
       "      <th></th>\n",
       "      <th>Ship Mode</th>\n",
       "      <th>Segment</th>\n",
       "      <th>Country</th>\n",
       "      <th>City</th>\n",
       "      <th>State</th>\n",
       "      <th>Postal Code</th>\n",
       "      <th>Region</th>\n",
       "      <th>Category</th>\n",
       "      <th>Sub-Category</th>\n",
       "      <th>Sales</th>\n",
       "      <th>Quantity</th>\n",
       "      <th>Discount</th>\n",
       "      <th>Profit</th>\n",
       "    </tr>\n",
       "  </thead>\n",
       "  <tbody>\n",
       "    <tr>\n",
       "      <th>0</th>\n",
       "      <td>Second Class</td>\n",
       "      <td>Consumer</td>\n",
       "      <td>United States</td>\n",
       "      <td>Henderson</td>\n",
       "      <td>Kentucky</td>\n",
       "      <td>42420</td>\n",
       "      <td>South</td>\n",
       "      <td>Furniture</td>\n",
       "      <td>Bookcases</td>\n",
       "      <td>261.9600</td>\n",
       "      <td>2</td>\n",
       "      <td>0.00</td>\n",
       "      <td>41.9136</td>\n",
       "    </tr>\n",
       "    <tr>\n",
       "      <th>1</th>\n",
       "      <td>Second Class</td>\n",
       "      <td>Consumer</td>\n",
       "      <td>United States</td>\n",
       "      <td>Henderson</td>\n",
       "      <td>Kentucky</td>\n",
       "      <td>42420</td>\n",
       "      <td>South</td>\n",
       "      <td>Furniture</td>\n",
       "      <td>Chairs</td>\n",
       "      <td>731.9400</td>\n",
       "      <td>3</td>\n",
       "      <td>0.00</td>\n",
       "      <td>219.5820</td>\n",
       "    </tr>\n",
       "    <tr>\n",
       "      <th>2</th>\n",
       "      <td>Second Class</td>\n",
       "      <td>Corporate</td>\n",
       "      <td>United States</td>\n",
       "      <td>Los Angeles</td>\n",
       "      <td>California</td>\n",
       "      <td>90036</td>\n",
       "      <td>West</td>\n",
       "      <td>Office Supplies</td>\n",
       "      <td>Labels</td>\n",
       "      <td>14.6200</td>\n",
       "      <td>2</td>\n",
       "      <td>0.00</td>\n",
       "      <td>6.8714</td>\n",
       "    </tr>\n",
       "    <tr>\n",
       "      <th>3</th>\n",
       "      <td>Standard Class</td>\n",
       "      <td>Consumer</td>\n",
       "      <td>United States</td>\n",
       "      <td>Fort Lauderdale</td>\n",
       "      <td>Florida</td>\n",
       "      <td>33311</td>\n",
       "      <td>South</td>\n",
       "      <td>Furniture</td>\n",
       "      <td>Tables</td>\n",
       "      <td>957.5775</td>\n",
       "      <td>5</td>\n",
       "      <td>0.45</td>\n",
       "      <td>-383.0310</td>\n",
       "    </tr>\n",
       "    <tr>\n",
       "      <th>4</th>\n",
       "      <td>Standard Class</td>\n",
       "      <td>Consumer</td>\n",
       "      <td>United States</td>\n",
       "      <td>Fort Lauderdale</td>\n",
       "      <td>Florida</td>\n",
       "      <td>33311</td>\n",
       "      <td>South</td>\n",
       "      <td>Office Supplies</td>\n",
       "      <td>Storage</td>\n",
       "      <td>22.3680</td>\n",
       "      <td>2</td>\n",
       "      <td>0.20</td>\n",
       "      <td>2.5164</td>\n",
       "    </tr>\n",
       "  </tbody>\n",
       "</table>\n",
       "</div>"
      ],
      "text/plain": [
       "        Ship Mode    Segment        Country             City       State  \\\n",
       "0    Second Class   Consumer  United States        Henderson    Kentucky   \n",
       "1    Second Class   Consumer  United States        Henderson    Kentucky   \n",
       "2    Second Class  Corporate  United States      Los Angeles  California   \n",
       "3  Standard Class   Consumer  United States  Fort Lauderdale     Florida   \n",
       "4  Standard Class   Consumer  United States  Fort Lauderdale     Florida   \n",
       "\n",
       "   Postal Code Region         Category Sub-Category     Sales  Quantity  \\\n",
       "0        42420  South        Furniture    Bookcases  261.9600         2   \n",
       "1        42420  South        Furniture       Chairs  731.9400         3   \n",
       "2        90036   West  Office Supplies       Labels   14.6200         2   \n",
       "3        33311  South        Furniture       Tables  957.5775         5   \n",
       "4        33311  South  Office Supplies      Storage   22.3680         2   \n",
       "\n",
       "   Discount    Profit  \n",
       "0      0.00   41.9136  \n",
       "1      0.00  219.5820  \n",
       "2      0.00    6.8714  \n",
       "3      0.45 -383.0310  \n",
       "4      0.20    2.5164  "
      ]
     },
     "execution_count": 3,
     "metadata": {},
     "output_type": "execute_result"
    }
   ],
   "source": [
    "df=pd.read_csv('../input/grip-task-3/SampleSuperstore.csv')\n",
    "df.head()"
   ]
  },
  {
   "cell_type": "code",
   "execution_count": 4,
   "id": "aee216ab",
   "metadata": {
    "execution": {
     "iopub.execute_input": "2021-07-12T05:12:55.734275Z",
     "iopub.status.busy": "2021-07-12T05:12:55.731908Z",
     "iopub.status.idle": "2021-07-12T05:12:55.745991Z",
     "shell.execute_reply": "2021-07-12T05:12:55.746459Z",
     "shell.execute_reply.started": "2021-07-08T10:54:53.816637Z"
    },
    "papermill": {
     "duration": 0.049832,
     "end_time": "2021-07-12T05:12:55.746608",
     "exception": false,
     "start_time": "2021-07-12T05:12:55.696776",
     "status": "completed"
    },
    "tags": []
   },
   "outputs": [
    {
     "data": {
      "text/plain": [
       "<bound method DataFrame.info of            Ship Mode    Segment        Country             City       State  \\\n",
       "0       Second Class   Consumer  United States        Henderson    Kentucky   \n",
       "1       Second Class   Consumer  United States        Henderson    Kentucky   \n",
       "2       Second Class  Corporate  United States      Los Angeles  California   \n",
       "3     Standard Class   Consumer  United States  Fort Lauderdale     Florida   \n",
       "4     Standard Class   Consumer  United States  Fort Lauderdale     Florida   \n",
       "...              ...        ...            ...              ...         ...   \n",
       "9989    Second Class   Consumer  United States            Miami     Florida   \n",
       "9990  Standard Class   Consumer  United States       Costa Mesa  California   \n",
       "9991  Standard Class   Consumer  United States       Costa Mesa  California   \n",
       "9992  Standard Class   Consumer  United States       Costa Mesa  California   \n",
       "9993    Second Class   Consumer  United States      Westminster  California   \n",
       "\n",
       "      Postal Code Region         Category Sub-Category     Sales  Quantity  \\\n",
       "0           42420  South        Furniture    Bookcases  261.9600         2   \n",
       "1           42420  South        Furniture       Chairs  731.9400         3   \n",
       "2           90036   West  Office Supplies       Labels   14.6200         2   \n",
       "3           33311  South        Furniture       Tables  957.5775         5   \n",
       "4           33311  South  Office Supplies      Storage   22.3680         2   \n",
       "...           ...    ...              ...          ...       ...       ...   \n",
       "9989        33180  South        Furniture  Furnishings   25.2480         3   \n",
       "9990        92627   West        Furniture  Furnishings   91.9600         2   \n",
       "9991        92627   West       Technology       Phones  258.5760         2   \n",
       "9992        92627   West  Office Supplies        Paper   29.6000         4   \n",
       "9993        92683   West  Office Supplies   Appliances  243.1600         2   \n",
       "\n",
       "      Discount    Profit  \n",
       "0         0.00   41.9136  \n",
       "1         0.00  219.5820  \n",
       "2         0.00    6.8714  \n",
       "3         0.45 -383.0310  \n",
       "4         0.20    2.5164  \n",
       "...        ...       ...  \n",
       "9989      0.20    4.1028  \n",
       "9990      0.00   15.6332  \n",
       "9991      0.20   19.3932  \n",
       "9992      0.00   13.3200  \n",
       "9993      0.00   72.9480  \n",
       "\n",
       "[9994 rows x 13 columns]>"
      ]
     },
     "execution_count": 4,
     "metadata": {},
     "output_type": "execute_result"
    }
   ],
   "source": [
    "df.info"
   ]
  },
  {
   "cell_type": "code",
   "execution_count": 5,
   "id": "af8bc9bc",
   "metadata": {
    "execution": {
     "iopub.execute_input": "2021-07-12T05:12:55.821013Z",
     "iopub.status.busy": "2021-07-12T05:12:55.820128Z",
     "iopub.status.idle": "2021-07-12T05:12:55.824229Z",
     "shell.execute_reply": "2021-07-12T05:12:55.823722Z",
     "shell.execute_reply.started": "2021-07-08T10:54:54.038118Z"
    },
    "papermill": {
     "duration": 0.04817,
     "end_time": "2021-07-12T05:12:55.824357",
     "exception": false,
     "start_time": "2021-07-12T05:12:55.776187",
     "status": "completed"
    },
    "tags": []
   },
   "outputs": [
    {
     "data": {
      "text/plain": [
       "<bound method NDFrame.describe of            Ship Mode    Segment        Country             City       State  \\\n",
       "0       Second Class   Consumer  United States        Henderson    Kentucky   \n",
       "1       Second Class   Consumer  United States        Henderson    Kentucky   \n",
       "2       Second Class  Corporate  United States      Los Angeles  California   \n",
       "3     Standard Class   Consumer  United States  Fort Lauderdale     Florida   \n",
       "4     Standard Class   Consumer  United States  Fort Lauderdale     Florida   \n",
       "...              ...        ...            ...              ...         ...   \n",
       "9989    Second Class   Consumer  United States            Miami     Florida   \n",
       "9990  Standard Class   Consumer  United States       Costa Mesa  California   \n",
       "9991  Standard Class   Consumer  United States       Costa Mesa  California   \n",
       "9992  Standard Class   Consumer  United States       Costa Mesa  California   \n",
       "9993    Second Class   Consumer  United States      Westminster  California   \n",
       "\n",
       "      Postal Code Region         Category Sub-Category     Sales  Quantity  \\\n",
       "0           42420  South        Furniture    Bookcases  261.9600         2   \n",
       "1           42420  South        Furniture       Chairs  731.9400         3   \n",
       "2           90036   West  Office Supplies       Labels   14.6200         2   \n",
       "3           33311  South        Furniture       Tables  957.5775         5   \n",
       "4           33311  South  Office Supplies      Storage   22.3680         2   \n",
       "...           ...    ...              ...          ...       ...       ...   \n",
       "9989        33180  South        Furniture  Furnishings   25.2480         3   \n",
       "9990        92627   West        Furniture  Furnishings   91.9600         2   \n",
       "9991        92627   West       Technology       Phones  258.5760         2   \n",
       "9992        92627   West  Office Supplies        Paper   29.6000         4   \n",
       "9993        92683   West  Office Supplies   Appliances  243.1600         2   \n",
       "\n",
       "      Discount    Profit  \n",
       "0         0.00   41.9136  \n",
       "1         0.00  219.5820  \n",
       "2         0.00    6.8714  \n",
       "3         0.45 -383.0310  \n",
       "4         0.20    2.5164  \n",
       "...        ...       ...  \n",
       "9989      0.20    4.1028  \n",
       "9990      0.00   15.6332  \n",
       "9991      0.20   19.3932  \n",
       "9992      0.00   13.3200  \n",
       "9993      0.00   72.9480  \n",
       "\n",
       "[9994 rows x 13 columns]>"
      ]
     },
     "execution_count": 5,
     "metadata": {},
     "output_type": "execute_result"
    }
   ],
   "source": [
    "df.describe"
   ]
  },
  {
   "cell_type": "code",
   "execution_count": 6,
   "id": "12f7bfea",
   "metadata": {
    "execution": {
     "iopub.execute_input": "2021-07-12T05:12:55.897300Z",
     "iopub.status.busy": "2021-07-12T05:12:55.891797Z",
     "iopub.status.idle": "2021-07-12T05:12:55.901979Z",
     "shell.execute_reply": "2021-07-12T05:12:55.902450Z",
     "shell.execute_reply.started": "2021-07-08T10:54:54.208392Z"
    },
    "papermill": {
     "duration": 0.048218,
     "end_time": "2021-07-12T05:12:55.902622",
     "exception": false,
     "start_time": "2021-07-12T05:12:55.854404",
     "status": "completed"
    },
    "tags": []
   },
   "outputs": [
    {
     "data": {
      "text/plain": [
       "<bound method DataFrame.value_counts of            Ship Mode    Segment        Country             City       State  \\\n",
       "0       Second Class   Consumer  United States        Henderson    Kentucky   \n",
       "1       Second Class   Consumer  United States        Henderson    Kentucky   \n",
       "2       Second Class  Corporate  United States      Los Angeles  California   \n",
       "3     Standard Class   Consumer  United States  Fort Lauderdale     Florida   \n",
       "4     Standard Class   Consumer  United States  Fort Lauderdale     Florida   \n",
       "...              ...        ...            ...              ...         ...   \n",
       "9989    Second Class   Consumer  United States            Miami     Florida   \n",
       "9990  Standard Class   Consumer  United States       Costa Mesa  California   \n",
       "9991  Standard Class   Consumer  United States       Costa Mesa  California   \n",
       "9992  Standard Class   Consumer  United States       Costa Mesa  California   \n",
       "9993    Second Class   Consumer  United States      Westminster  California   \n",
       "\n",
       "      Postal Code Region         Category Sub-Category     Sales  Quantity  \\\n",
       "0           42420  South        Furniture    Bookcases  261.9600         2   \n",
       "1           42420  South        Furniture       Chairs  731.9400         3   \n",
       "2           90036   West  Office Supplies       Labels   14.6200         2   \n",
       "3           33311  South        Furniture       Tables  957.5775         5   \n",
       "4           33311  South  Office Supplies      Storage   22.3680         2   \n",
       "...           ...    ...              ...          ...       ...       ...   \n",
       "9989        33180  South        Furniture  Furnishings   25.2480         3   \n",
       "9990        92627   West        Furniture  Furnishings   91.9600         2   \n",
       "9991        92627   West       Technology       Phones  258.5760         2   \n",
       "9992        92627   West  Office Supplies        Paper   29.6000         4   \n",
       "9993        92683   West  Office Supplies   Appliances  243.1600         2   \n",
       "\n",
       "      Discount    Profit  \n",
       "0         0.00   41.9136  \n",
       "1         0.00  219.5820  \n",
       "2         0.00    6.8714  \n",
       "3         0.45 -383.0310  \n",
       "4         0.20    2.5164  \n",
       "...        ...       ...  \n",
       "9989      0.20    4.1028  \n",
       "9990      0.00   15.6332  \n",
       "9991      0.20   19.3932  \n",
       "9992      0.00   13.3200  \n",
       "9993      0.00   72.9480  \n",
       "\n",
       "[9994 rows x 13 columns]>"
      ]
     },
     "execution_count": 6,
     "metadata": {},
     "output_type": "execute_result"
    }
   ],
   "source": [
    "df.value_counts"
   ]
  },
  {
   "cell_type": "code",
   "execution_count": 7,
   "id": "1223525e",
   "metadata": {
    "execution": {
     "iopub.execute_input": "2021-07-12T05:12:55.968041Z",
     "iopub.status.busy": "2021-07-12T05:12:55.967173Z",
     "iopub.status.idle": "2021-07-12T05:12:55.971091Z",
     "shell.execute_reply": "2021-07-12T05:12:55.970476Z",
     "shell.execute_reply.started": "2021-07-08T10:54:54.372277Z"
    },
    "papermill": {
     "duration": 0.03822,
     "end_time": "2021-07-12T05:12:55.971214",
     "exception": false,
     "start_time": "2021-07-12T05:12:55.932994",
     "status": "completed"
    },
    "tags": []
   },
   "outputs": [
    {
     "data": {
      "text/plain": [
       "(9994, 13)"
      ]
     },
     "execution_count": 7,
     "metadata": {},
     "output_type": "execute_result"
    }
   ],
   "source": [
    "df.shape\n"
   ]
  },
  {
   "cell_type": "markdown",
   "id": "8f59c7bf",
   "metadata": {
    "papermill": {
     "duration": 0.030943,
     "end_time": "2021-07-12T05:12:56.032486",
     "exception": false,
     "start_time": "2021-07-12T05:12:56.001543",
     "status": "completed"
    },
    "tags": []
   },
   "source": [
    "``This dataset contains 9994 rows and 13 columns``"
   ]
  },
  {
   "cell_type": "code",
   "execution_count": 8,
   "id": "5ce01f33",
   "metadata": {
    "execution": {
     "iopub.execute_input": "2021-07-12T05:12:56.129427Z",
     "iopub.status.busy": "2021-07-12T05:12:56.128244Z",
     "iopub.status.idle": "2021-07-12T05:12:56.139897Z",
     "shell.execute_reply": "2021-07-12T05:12:56.140901Z",
     "shell.execute_reply.started": "2021-07-08T10:54:54.883228Z"
    },
    "papermill": {
     "duration": 0.070571,
     "end_time": "2021-07-12T05:12:56.141129",
     "exception": false,
     "start_time": "2021-07-12T05:12:56.070558",
     "status": "completed"
    },
    "tags": []
   },
   "outputs": [
    {
     "data": {
      "text/plain": [
       "Ship Mode       0\n",
       "Segment         0\n",
       "Country         0\n",
       "City            0\n",
       "State           0\n",
       "Postal Code     0\n",
       "Region          0\n",
       "Category        0\n",
       "Sub-Category    0\n",
       "Sales           0\n",
       "Quantity        0\n",
       "Discount        0\n",
       "Profit          0\n",
       "dtype: int64"
      ]
     },
     "execution_count": 8,
     "metadata": {},
     "output_type": "execute_result"
    }
   ],
   "source": [
    "df.isnull().sum()"
   ]
  },
  {
   "cell_type": "markdown",
   "id": "63c1e6d7",
   "metadata": {
    "papermill": {
     "duration": 0.031382,
     "end_time": "2021-07-12T05:12:56.204709",
     "exception": false,
     "start_time": "2021-07-12T05:12:56.173327",
     "status": "completed"
    },
    "tags": []
   },
   "source": [
    "``Finding the sum of null values``"
   ]
  },
  {
   "cell_type": "code",
   "execution_count": 9,
   "id": "f3e6f673",
   "metadata": {
    "execution": {
     "iopub.execute_input": "2021-07-12T05:12:56.270722Z",
     "iopub.status.busy": "2021-07-12T05:12:56.269825Z",
     "iopub.status.idle": "2021-07-12T05:12:56.286228Z",
     "shell.execute_reply": "2021-07-12T05:12:56.285586Z",
     "shell.execute_reply.started": "2021-07-08T10:54:54.923855Z"
    },
    "papermill": {
     "duration": 0.050437,
     "end_time": "2021-07-12T05:12:56.286369",
     "exception": false,
     "start_time": "2021-07-12T05:12:56.235932",
     "status": "completed"
    },
    "tags": []
   },
   "outputs": [
    {
     "data": {
      "text/plain": [
       "Ship Mode       False\n",
       "Segment         False\n",
       "Country         False\n",
       "City            False\n",
       "State           False\n",
       "Postal Code     False\n",
       "Region          False\n",
       "Category        False\n",
       "Sub-Category    False\n",
       "Sales           False\n",
       "Quantity        False\n",
       "Discount        False\n",
       "Profit          False\n",
       "dtype: bool"
      ]
     },
     "execution_count": 9,
     "metadata": {},
     "output_type": "execute_result"
    }
   ],
   "source": [
    "df.isnull().any()"
   ]
  },
  {
   "cell_type": "markdown",
   "id": "7ecc621e",
   "metadata": {
    "papermill": {
     "duration": 0.032081,
     "end_time": "2021-07-12T05:12:56.350366",
     "exception": false,
     "start_time": "2021-07-12T05:12:56.318285",
     "status": "completed"
    },
    "tags": []
   },
   "source": [
    "``Finding if the values contains null values or not``"
   ]
  },
  {
   "cell_type": "code",
   "execution_count": 10,
   "id": "ad2bc9a4",
   "metadata": {
    "execution": {
     "iopub.execute_input": "2021-07-12T05:12:56.417511Z",
     "iopub.status.busy": "2021-07-12T05:12:56.416901Z",
     "iopub.status.idle": "2021-07-12T05:12:56.432222Z",
     "shell.execute_reply": "2021-07-12T05:12:56.431657Z",
     "shell.execute_reply.started": "2021-07-08T10:54:54.942212Z"
    },
    "papermill": {
     "duration": 0.049691,
     "end_time": "2021-07-12T05:12:56.432362",
     "exception": false,
     "start_time": "2021-07-12T05:12:56.382671",
     "status": "completed"
    },
    "tags": []
   },
   "outputs": [
    {
     "data": {
      "text/plain": [
       "Ship Mode       False\n",
       "Segment         False\n",
       "Country         False\n",
       "City            False\n",
       "State           False\n",
       "Postal Code     False\n",
       "Region          False\n",
       "Category        False\n",
       "Sub-Category    False\n",
       "Sales           False\n",
       "Quantity        False\n",
       "Discount        False\n",
       "Profit          False\n",
       "dtype: bool"
      ]
     },
     "execution_count": 10,
     "metadata": {},
     "output_type": "execute_result"
    }
   ],
   "source": [
    "df.isnull().all()"
   ]
  },
  {
   "cell_type": "code",
   "execution_count": 11,
   "id": "9be4d1f4",
   "metadata": {
    "execution": {
     "iopub.execute_input": "2021-07-12T05:12:56.499938Z",
     "iopub.status.busy": "2021-07-12T05:12:56.499314Z",
     "iopub.status.idle": "2021-07-12T05:12:56.527322Z",
     "shell.execute_reply": "2021-07-12T05:12:56.526672Z",
     "shell.execute_reply.started": "2021-07-08T10:54:54.973046Z"
    },
    "papermill": {
     "duration": 0.063303,
     "end_time": "2021-07-12T05:12:56.527451",
     "exception": false,
     "start_time": "2021-07-12T05:12:56.464148",
     "status": "completed"
    },
    "tags": []
   },
   "outputs": [
    {
     "data": {
      "text/plain": [
       "Ship Mode          4\n",
       "Segment            3\n",
       "Country            1\n",
       "City             531\n",
       "State             49\n",
       "Postal Code      631\n",
       "Region             4\n",
       "Category           3\n",
       "Sub-Category      17\n",
       "Sales           5825\n",
       "Quantity          14\n",
       "Discount          12\n",
       "Profit          7287\n",
       "dtype: int64"
      ]
     },
     "execution_count": 11,
     "metadata": {},
     "output_type": "execute_result"
    }
   ],
   "source": [
    "df.nunique()"
   ]
  },
  {
   "cell_type": "markdown",
   "id": "e10c7c50",
   "metadata": {
    "papermill": {
     "duration": 0.031742,
     "end_time": "2021-07-12T05:12:56.591328",
     "exception": false,
     "start_time": "2021-07-12T05:12:56.559586",
     "status": "completed"
    },
    "tags": []
   },
   "source": [
    "``Finding the unique values in the dataset``"
   ]
  },
  {
   "cell_type": "code",
   "execution_count": 12,
   "id": "8d64a43c",
   "metadata": {
    "execution": {
     "iopub.execute_input": "2021-07-12T05:12:56.659837Z",
     "iopub.status.busy": "2021-07-12T05:12:56.659283Z",
     "iopub.status.idle": "2021-07-12T05:12:56.665058Z",
     "shell.execute_reply": "2021-07-12T05:12:56.664470Z",
     "shell.execute_reply.started": "2021-07-08T10:54:55.009137Z"
    },
    "papermill": {
     "duration": 0.041132,
     "end_time": "2021-07-12T05:12:56.665192",
     "exception": false,
     "start_time": "2021-07-12T05:12:56.624060",
     "status": "completed"
    },
    "tags": []
   },
   "outputs": [
    {
     "data": {
      "text/plain": [
       "Index(['Ship Mode', 'Segment', 'Country', 'City', 'State', 'Postal Code',\n",
       "       'Region', 'Category', 'Sub-Category', 'Sales', 'Quantity', 'Discount',\n",
       "       'Profit'],\n",
       "      dtype='object')"
      ]
     },
     "execution_count": 12,
     "metadata": {},
     "output_type": "execute_result"
    }
   ],
   "source": [
    "df.columns"
   ]
  },
  {
   "cell_type": "markdown",
   "id": "8abfcacc",
   "metadata": {
    "papermill": {
     "duration": 0.032846,
     "end_time": "2021-07-12T05:12:56.730665",
     "exception": false,
     "start_time": "2021-07-12T05:12:56.697819",
     "status": "completed"
    },
    "tags": []
   },
   "source": [
    "``Displaying all the columns``"
   ]
  },
  {
   "cell_type": "code",
   "execution_count": 13,
   "id": "768f5f81",
   "metadata": {
    "execution": {
     "iopub.execute_input": "2021-07-12T05:12:56.801277Z",
     "iopub.status.busy": "2021-07-12T05:12:56.800702Z",
     "iopub.status.idle": "2021-07-12T05:12:56.803391Z",
     "shell.execute_reply": "2021-07-12T05:12:56.803874Z",
     "shell.execute_reply.started": "2021-07-08T10:54:55.019675Z"
    },
    "papermill": {
     "duration": 0.040401,
     "end_time": "2021-07-12T05:12:56.804017",
     "exception": false,
     "start_time": "2021-07-12T05:12:56.763616",
     "status": "completed"
    },
    "tags": []
   },
   "outputs": [
    {
     "data": {
      "text/plain": [
       "Index(['ShipMode', 'Segment', 'Country', 'City', 'State', 'PostalCode',\n",
       "       'Region', 'Category', 'Sub-Category', 'Sales', 'Quantity', 'Discount',\n",
       "       'Profit'],\n",
       "      dtype='object')"
      ]
     },
     "execution_count": 13,
     "metadata": {},
     "output_type": "execute_result"
    }
   ],
   "source": [
    "df.columns=[c.replace(' ','')for c in df.columns]\n",
    "df.columns"
   ]
  },
  {
   "cell_type": "code",
   "execution_count": 14,
   "id": "ccb75c89",
   "metadata": {
    "execution": {
     "iopub.execute_input": "2021-07-12T05:12:56.871629Z",
     "iopub.status.busy": "2021-07-12T05:12:56.871089Z",
     "iopub.status.idle": "2021-07-12T05:12:56.875641Z",
     "shell.execute_reply": "2021-07-12T05:12:56.876074Z",
     "shell.execute_reply.started": "2021-07-08T10:54:55.071833Z"
    },
    "papermill": {
     "duration": 0.040808,
     "end_time": "2021-07-12T05:12:56.876205",
     "exception": false,
     "start_time": "2021-07-12T05:12:56.835397",
     "status": "completed"
    },
    "tags": []
   },
   "outputs": [
    {
     "data": {
      "text/plain": [
       "Index(['ShipMode', 'Segment', 'Country', 'City', 'State', 'PostalCode',\n",
       "       'Region', 'Category', 'Sub-Category', 'Sales', 'Quantity', 'Discount',\n",
       "       'Profit'],\n",
       "      dtype='object')"
      ]
     },
     "execution_count": 14,
     "metadata": {},
     "output_type": "execute_result"
    }
   ],
   "source": [
    "df.columns"
   ]
  },
  {
   "cell_type": "code",
   "execution_count": 15,
   "id": "855095cc",
   "metadata": {
    "execution": {
     "iopub.execute_input": "2021-07-12T05:12:56.944574Z",
     "iopub.status.busy": "2021-07-12T05:12:56.944033Z",
     "iopub.status.idle": "2021-07-12T05:12:57.124195Z",
     "shell.execute_reply": "2021-07-12T05:12:57.123644Z",
     "shell.execute_reply.started": "2021-07-08T10:54:55.081444Z"
    },
    "papermill": {
     "duration": 0.215553,
     "end_time": "2021-07-12T05:12:57.124315",
     "exception": false,
     "start_time": "2021-07-12T05:12:56.908762",
     "status": "completed"
    },
    "tags": []
   },
   "outputs": [
    {
     "data": {
      "text/plain": [
       "Text(0.5, 1.0, 'Ship Mode vs Counts')"
      ]
     },
     "execution_count": 15,
     "metadata": {},
     "output_type": "execute_result"
    },
    {
     "data": {
      "image/png": "[encoded data removed]",
      "text/plain": [
       "<Figure size 432x288 with 1 Axes>"
      ]
     },
     "metadata": {
      "needs_background": "light"
     },
     "output_type": "display_data"
    }
   ],
   "source": [
    "shipmode=df['ShipMode'].value_counts()\n",
    "sns.barplot(x=shipmode.index,y=shipmode.values)\n",
    "plt.title('Ship Mode vs Counts')"
   ]
  },
  {
   "cell_type": "markdown",
   "id": "56bef249",
   "metadata": {
    "papermill": {
     "duration": 0.032397,
     "end_time": "2021-07-12T05:12:57.190260",
     "exception": false,
     "start_time": "2021-07-12T05:12:57.157863",
     "status": "completed"
    },
    "tags": []
   },
   "source": [
    "``Plotting the graph of ship mode``"
   ]
  },
  {
   "cell_type": "code",
   "execution_count": 16,
   "id": "6b0dea18",
   "metadata": {
    "execution": {
     "iopub.execute_input": "2021-07-12T05:12:57.298625Z",
     "iopub.status.busy": "2021-07-12T05:12:57.295383Z",
     "iopub.status.idle": "2021-07-12T05:12:57.426208Z",
     "shell.execute_reply": "2021-07-12T05:12:57.426609Z",
     "shell.execute_reply.started": "2021-07-08T10:54:55.255002Z"
    },
    "papermill": {
     "duration": 0.203296,
     "end_time": "2021-07-12T05:12:57.426803",
     "exception": false,
     "start_time": "2021-07-12T05:12:57.223507",
     "status": "completed"
    },
    "tags": []
   },
   "outputs": [
    {
     "data": {
      "text/plain": [
       "Text(0.5, 1.0, 'Segment vs Counts')"
      ]
     },
     "execution_count": 16,
     "metadata": {},
     "output_type": "execute_result"
    },
    {
     "data": {
      "image/png": "[encoded data removed]",
      "text/plain": [
       "<Figure size 432x288 with 1 Axes>"
      ]
     },
     "metadata": {
      "needs_background": "light"
     },
     "output_type": "display_data"
    }
   ],
   "source": [
    "plt.figure(figsize=(6,4))\n",
    "segment=df['Segment']\n",
    "sns.histplot(segment,bins=20,alpha=0.8)\n",
    "plt.title('Segment vs Counts')"
   ]
  },
  {
   "cell_type": "code",
   "execution_count": 17,
   "id": "1289c97c",
   "metadata": {
    "execution": {
     "iopub.execute_input": "2021-07-12T05:12:57.503909Z",
     "iopub.status.busy": "2021-07-12T05:12:57.503034Z",
     "iopub.status.idle": "2021-07-12T05:12:57.595215Z",
     "shell.execute_reply": "2021-07-12T05:12:57.594641Z",
     "shell.execute_reply.started": "2021-07-08T10:54:55.42577Z"
    },
    "papermill": {
     "duration": 0.133494,
     "end_time": "2021-07-12T05:12:57.595346",
     "exception": false,
     "start_time": "2021-07-12T05:12:57.461852",
     "status": "completed"
    },
    "tags": []
   },
   "outputs": [
    {
     "name": "stderr",
     "output_type": "stream",
     "text": [
      "/opt/conda/lib/python3.7/site-packages/seaborn/_decorators.py:43: FutureWarning: Pass the following variables as keyword args: x, y. From version 0.12, the only valid positional argument will be `data`, and passing other arguments without an explicit keyword will result in an error or misinterpretation.\n",
      "  FutureWarning\n"
     ]
    },
    {
     "data": {
      "image/png": "[encoded data removed]",
      "text/plain": [
       "<Figure size 432x288 with 1 Axes>"
      ]
     },
     "metadata": {
      "needs_background": "light"
     },
     "output_type": "display_data"
    }
   ],
   "source": [
    "country=df['Country'].value_counts()\n",
    "sns.barplot(country.index,country.values)\n",
    "plt.grid()\n",
    "plt.show()\n"
   ]
  },
  {
   "cell_type": "code",
   "execution_count": 18,
   "id": "fe7a79da",
   "metadata": {
    "execution": {
     "iopub.execute_input": "2021-07-12T05:12:57.704202Z",
     "iopub.status.busy": "2021-07-12T05:12:57.703316Z",
     "iopub.status.idle": "2021-07-12T05:13:06.243545Z",
     "shell.execute_reply": "2021-07-12T05:13:06.243032Z",
     "shell.execute_reply.started": "2021-07-08T10:54:55.540706Z"
    },
    "papermill": {
     "duration": 8.613141,
     "end_time": "2021-07-12T05:13:06.243679",
     "exception": false,
     "start_time": "2021-07-12T05:12:57.630538",
     "status": "completed"
    },
    "tags": []
   },
   "outputs": [
    {
     "data": {
      "text/plain": [
       "Text(0.5, 1.0, 'City vs Counts')"
      ]
     },
     "execution_count": 18,
     "metadata": {},
     "output_type": "execute_result"
    },
    {
     "data": {
      "image/png": "[encoded data removed]",
      "text/plain": [
       "<Figure size 432x288 with 1 Axes>"
      ]
     },
     "metadata": {
      "needs_background": "light"
     },
     "output_type": "display_data"
    }
   ],
   "source": [
    "plt.figure(figsize=(6,4))\n",
    "city=df['City']\n",
    "sns.histplot(city,bins=20,alpha=0.8)\n",
    "plt.title('City vs Counts')"
   ]
  },
  {
   "cell_type": "code",
   "execution_count": 19,
   "id": "748c3fe4",
   "metadata": {
    "execution": {
     "iopub.execute_input": "2021-07-12T05:13:06.331416Z",
     "iopub.status.busy": "2021-07-12T05:13:06.328773Z",
     "iopub.status.idle": "2021-07-12T05:13:06.531510Z",
     "shell.execute_reply": "2021-07-12T05:13:06.531050Z",
     "shell.execute_reply.started": "2021-07-08T10:55:04.814889Z"
    },
    "papermill": {
     "duration": 0.250371,
     "end_time": "2021-07-12T05:13:06.531635",
     "exception": false,
     "start_time": "2021-07-12T05:13:06.281264",
     "status": "completed"
    },
    "tags": []
   },
   "outputs": [
    {
     "data": {
      "text/plain": [
       "Text(0.5, 1.0, 'Postal  vs Counts')"
      ]
     },
     "execution_count": 19,
     "metadata": {},
     "output_type": "execute_result"
    },
    {
     "data": {
      "image/png": "[encoded data removed]",
      "text/plain": [
       "<Figure size 432x288 with 1 Axes>"
      ]
     },
     "metadata": {
      "needs_background": "light"
     },
     "output_type": "display_data"
    }
   ],
   "source": [
    "plt.figure(figsize=(6,4))\n",
    "postal=df['PostalCode']\n",
    "sns.histplot(postal,bins=20,alpha=0.8)\n",
    "plt.title('Postal  vs Counts')"
   ]
  },
  {
   "cell_type": "code",
   "execution_count": 20,
   "id": "4658ea77",
   "metadata": {
    "execution": {
     "iopub.execute_input": "2021-07-12T05:13:06.612296Z",
     "iopub.status.busy": "2021-07-12T05:13:06.610752Z",
     "iopub.status.idle": "2021-07-12T05:13:06.833481Z",
     "shell.execute_reply": "2021-07-12T05:13:06.832976Z",
     "shell.execute_reply.started": "2021-07-08T10:55:05.04616Z"
    },
    "papermill": {
     "duration": 0.264765,
     "end_time": "2021-07-12T05:13:06.833623",
     "exception": false,
     "start_time": "2021-07-12T05:13:06.568858",
     "status": "completed"
    },
    "tags": []
   },
   "outputs": [
    {
     "data": {
      "text/plain": [
       "Text(0.5, 1.0, 'Quantity vs Counts')"
      ]
     },
     "execution_count": 20,
     "metadata": {},
     "output_type": "execute_result"
    },
    {
     "data": {
      "image/png": "[encoded data removed]",
      "text/plain": [
       "<Figure size 432x288 with 1 Axes>"
      ]
     },
     "metadata": {
      "needs_background": "light"
     },
     "output_type": "display_data"
    }
   ],
   "source": [
    "quantity=df['Quantity'].value_counts()\n",
    "sns.barplot(x=quantity.index,y=quantity.values)\n",
    "plt.title('Quantity vs Counts')"
   ]
  },
  {
   "cell_type": "code",
   "execution_count": 21,
   "id": "b1683e95",
   "metadata": {
    "execution": {
     "iopub.execute_input": "2021-07-12T05:13:06.918471Z",
     "iopub.status.busy": "2021-07-12T05:13:06.917862Z",
     "iopub.status.idle": "2021-07-12T05:13:07.128139Z",
     "shell.execute_reply": "2021-07-12T05:13:07.127081Z",
     "shell.execute_reply.started": "2021-07-08T10:55:48.783738Z"
    },
    "papermill": {
     "duration": 0.255643,
     "end_time": "2021-07-12T05:13:07.128372",
     "exception": false,
     "start_time": "2021-07-12T05:13:06.872729",
     "status": "completed"
    },
    "tags": []
   },
   "outputs": [
    {
     "name": "stderr",
     "output_type": "stream",
     "text": [
      "/opt/conda/lib/python3.7/site-packages/seaborn/_decorators.py:43: FutureWarning: Pass the following variables as keyword args: x, y. From version 0.12, the only valid positional argument will be `data`, and passing other arguments without an explicit keyword will result in an error or misinterpretation.\n",
      "  FutureWarning\n"
     ]
    },
    {
     "data": {
      "image/png": "[encoded data removed]",
      "text/plain": [
       "<Figure size 432x288 with 1 Axes>"
      ]
     },
     "metadata": {
      "needs_background": "light"
     },
     "output_type": "display_data"
    }
   ],
   "source": [
    "country=df['Discount'].value_counts()\n",
    "sns.barplot(country.index,country.values)\n",
    "plt.grid()\n",
    "plt.show()\n"
   ]
  },
  {
   "cell_type": "code",
   "execution_count": 22,
   "id": "4b0d4355",
   "metadata": {
    "execution": {
     "iopub.execute_input": "2021-07-12T05:13:07.232050Z",
     "iopub.status.busy": "2021-07-12T05:13:07.229834Z",
     "iopub.status.idle": "2021-07-12T05:13:07.425634Z",
     "shell.execute_reply": "2021-07-12T05:13:07.425075Z",
     "shell.execute_reply.started": "2021-07-08T10:57:00.963994Z"
    },
    "papermill": {
     "duration": 0.249473,
     "end_time": "2021-07-12T05:13:07.425792",
     "exception": false,
     "start_time": "2021-07-12T05:13:07.176319",
     "status": "completed"
    },
    "tags": []
   },
   "outputs": [
    {
     "data": {
      "text/plain": [
       "Text(0.5, 1.0, 'Postal  vs Counts')"
      ]
     },
     "execution_count": 22,
     "metadata": {},
     "output_type": "execute_result"
    },
    {
     "data": {
      "image/png": "[encoded data removed]",
      "text/plain": [
       "<Figure size 432x288 with 1 Axes>"
      ]
     },
     "metadata": {
      "needs_background": "light"
     },
     "output_type": "display_data"
    }
   ],
   "source": [
    "plt.figure(figsize=(6,4))\n",
    "postal=df['Profit']\n",
    "sns.histplot(postal,bins=20,alpha=0.8)\n",
    "plt.title('Postal  vs Counts')"
   ]
  },
  {
   "cell_type": "code",
   "execution_count": 23,
   "id": "21c87d82",
   "metadata": {
    "execution": {
     "iopub.execute_input": "2021-07-12T05:13:07.549236Z",
     "iopub.status.busy": "2021-07-12T05:13:07.544061Z",
     "iopub.status.idle": "2021-07-12T05:13:07.674441Z",
     "shell.execute_reply": "2021-07-12T05:13:07.673925Z",
     "shell.execute_reply.started": "2021-07-08T10:57:52.453707Z"
    },
    "papermill": {
     "duration": 0.20829,
     "end_time": "2021-07-12T05:13:07.674580",
     "exception": false,
     "start_time": "2021-07-12T05:13:07.466290",
     "status": "completed"
    },
    "tags": []
   },
   "outputs": [
    {
     "data": {
      "text/plain": [
       "Text(0.5, 1.0, 'Postal  vs Counts')"
      ]
     },
     "execution_count": 23,
     "metadata": {},
     "output_type": "execute_result"
    },
    {
     "data": {
      "image/png": "[encoded data removed]",
      "text/plain": [
       "<Figure size 432x288 with 1 Axes>"
      ]
     },
     "metadata": {
      "needs_background": "light"
     },
     "output_type": "display_data"
    }
   ],
   "source": [
    "plt.figure(figsize=(6,4))\n",
    "postal=df['Region']\n",
    "sns.histplot(postal,bins=20,alpha=0.8)\n",
    "plt.title('Postal  vs Counts')"
   ]
  },
  {
   "cell_type": "code",
   "execution_count": 24,
   "id": "84eb9132",
   "metadata": {
    "execution": {
     "iopub.execute_input": "2021-07-12T05:13:07.765067Z",
     "iopub.status.busy": "2021-07-12T05:13:07.764472Z",
     "iopub.status.idle": "2021-07-12T05:13:08.151926Z",
     "shell.execute_reply": "2021-07-12T05:13:08.152351Z",
     "shell.execute_reply.started": "2021-07-08T10:59:47.881484Z"
    },
    "papermill": {
     "duration": 0.434985,
     "end_time": "2021-07-12T05:13:08.152500",
     "exception": false,
     "start_time": "2021-07-12T05:13:07.717515",
     "status": "completed"
    },
    "tags": []
   },
   "outputs": [
    {
     "name": "stderr",
     "output_type": "stream",
     "text": [
      "/opt/conda/lib/python3.7/site-packages/seaborn/distributions.py:2557: FutureWarning: `distplot` is a deprecated function and will be removed in a future version. Please adapt your code to use either `displot` (a figure-level function with similar flexibility) or `histplot` (an axes-level function for histograms).\n",
      "  warnings.warn(msg, FutureWarning)\n"
     ]
    },
    {
     "data": {
      "image/png": "[encoded data removed]",
      "text/plain": [
       "<Figure size 432x288 with 1 Axes>"
      ]
     },
     "metadata": {
      "needs_background": "light"
     },
     "output_type": "display_data"
    }
   ],
   "source": [
    "charges=df['Sales']\n",
    "sns.distplot(charges)\n",
    "plt.title('Monthly Sales')\n",
    "plt.xlabel('Sales')\n",
    "plt.grid()\n",
    "plt.show()"
   ]
  },
  {
   "cell_type": "code",
   "execution_count": 25,
   "id": "0ca6d191",
   "metadata": {
    "execution": {
     "iopub.execute_input": "2021-07-12T05:13:08.256989Z",
     "iopub.status.busy": "2021-07-12T05:13:08.255703Z",
     "iopub.status.idle": "2021-07-12T05:13:08.566021Z",
     "shell.execute_reply": "2021-07-12T05:13:08.566452Z",
     "shell.execute_reply.started": "2021-07-08T11:00:38.584052Z"
    },
    "papermill": {
     "duration": 0.371937,
     "end_time": "2021-07-12T05:13:08.566605",
     "exception": false,
     "start_time": "2021-07-12T05:13:08.194668",
     "status": "completed"
    },
    "tags": []
   },
   "outputs": [
    {
     "data": {
      "image/png": "[encoded data removed]",
      "text/plain": [
       "<Figure size 1008x864 with 2 Axes>"
      ]
     },
     "metadata": {
      "needs_background": "light"
     },
     "output_type": "display_data"
    }
   ],
   "source": [
    "colormap = plt.cm.RdBu\n",
    "plt.figure(figsize=(14,12))\n",
    "plt.title('Feature correlation matrix', y=1, size=15)\n",
    "sns.heatmap(df.corr(),linewidths=0.1,vmax=1.0, \n",
    "            square=True, cmap=colormap, linecolor='white', annot=True)\n",
    "plt.show()"
   ]
  },
  {
   "cell_type": "markdown",
   "id": "b22ddbfd",
   "metadata": {
    "papermill": {
     "duration": 0.04271,
     "end_time": "2021-07-12T05:13:08.652524",
     "exception": false,
     "start_time": "2021-07-12T05:13:08.609814",
     "status": "completed"
    },
    "tags": []
   },
   "source": [
    "``Calculating the corelation matrix``"
   ]
  },
  {
   "cell_type": "code",
   "execution_count": 26,
   "id": "8ea5eac2",
   "metadata": {
    "execution": {
     "iopub.execute_input": "2021-07-12T05:13:08.750435Z",
     "iopub.status.busy": "2021-07-12T05:13:08.749689Z",
     "iopub.status.idle": "2021-07-12T05:13:09.227729Z",
     "shell.execute_reply": "2021-07-12T05:13:09.227290Z",
     "shell.execute_reply.started": "2021-07-08T11:04:01.976675Z"
    },
    "papermill": {
     "duration": 0.531213,
     "end_time": "2021-07-12T05:13:09.227921",
     "exception": false,
     "start_time": "2021-07-12T05:13:08.696708",
     "status": "completed"
    },
    "tags": []
   },
   "outputs": [
    {
     "data": {
      "image/png": "[encoded data removed]",
      "text/plain": [
       "<Figure size 576x432 with 1 Axes>"
      ]
     },
     "metadata": {
      "needs_background": "light"
     },
     "output_type": "display_data"
    }
   ],
   "source": [
    "postal=df[\"Sub-Category\"].value_counts()\n",
    "plt.figure(figsize=(8,6))\n",
    "plot=postal.plot.pie(autopct=\"%1.0f%%\",frame=True,shadow=True)\n",
    "plt.show()"
   ]
  },
  {
   "cell_type": "markdown",
   "id": "90814025",
   "metadata": {
    "papermill": {
     "duration": 0.045416,
     "end_time": "2021-07-12T05:13:09.319497",
     "exception": false,
     "start_time": "2021-07-12T05:13:09.274081",
     "status": "completed"
    },
    "tags": []
   },
   "source": [
    "``Calculating the pie chart of sub-category``"
   ]
  },
  {
   "cell_type": "code",
   "execution_count": null,
   "id": "efcc3579",
   "metadata": {
    "papermill": {
     "duration": 0.044918,
     "end_time": "2021-07-12T05:13:09.408909",
     "exception": false,
     "start_time": "2021-07-12T05:13:09.363991",
     "status": "completed"
    },
    "tags": []
   },
   "outputs": [],
   "source": []
  },
  {
   "cell_type": "code",
   "execution_count": null,
   "id": "6cf163d8",
   "metadata": {
    "papermill": {
     "duration": 0.044845,
     "end_time": "2021-07-12T05:13:09.498528",
     "exception": false,
     "start_time": "2021-07-12T05:13:09.453683",
     "status": "completed"
    },
    "tags": []
   },
   "outputs": [],
   "source": []
  },
  {
   "cell_type": "code",
   "execution_count": null,
   "id": "3769bafc",
   "metadata": {
    "papermill": {
     "duration": 0.04465,
     "end_time": "2021-07-12T05:13:09.588051",
     "exception": false,
     "start_time": "2021-07-12T05:13:09.543401",
     "status": "completed"
    },
    "tags": []
   },
   "outputs": [],
   "source": []
  },
  {
   "cell_type": "code",
   "execution_count": null,
   "id": "65745717",
   "metadata": {
    "papermill": {
     "duration": 0.044091,
     "end_time": "2021-07-12T05:13:09.677165",
     "exception": false,
     "start_time": "2021-07-12T05:13:09.633074",
     "status": "completed"
    },
    "tags": []
   },
   "outputs": [],
   "source": []
  },
  {
   "cell_type": "code",
   "execution_count": null,
   "id": "bce91b29",
   "metadata": {
    "papermill": {
     "duration": 0.048236,
     "end_time": "2021-07-12T05:13:09.771042",
     "exception": false,
     "start_time": "2021-07-12T05:13:09.722806",
     "status": "completed"
    },
    "tags": []
   },
   "outputs": [],
   "source": []
  },
  {
   "cell_type": "code",
   "execution_count": null,
   "id": "80d255c4",
   "metadata": {
    "papermill": {
     "duration": 0.044811,
     "end_time": "2021-07-12T05:13:09.861131",
     "exception": false,
     "start_time": "2021-07-12T05:13:09.816320",
     "status": "completed"
    },
    "tags": []
   },
   "outputs": [],
   "source": []
  },
  {
   "cell_type": "code",
   "execution_count": null,
   "id": "35837b2c",
   "metadata": {
    "papermill": {
     "duration": 0.045004,
     "end_time": "2021-07-12T05:13:09.951610",
     "exception": false,
     "start_time": "2021-07-12T05:13:09.906606",
     "status": "completed"
    },
    "tags": []
   },
   "outputs": [],
   "source": []
  }
 ],
 "metadata": {
  "kernelspec": {
   "display_name": "Python 3",
   "language": "python",
   "name": "python3"
  },
  "language_info": {
   "codemirror_mode": {
    "name": "ipython",
    "version": 3
   },
   "file_extension": ".py",
   "mimetype": "text/x-python",
   "name": "python",
   "nbconvert_exporter": "python",
   "pygments_lexer": "ipython3",
   "version": "3.7.10"
  },
  "papermill": {
   "default_parameters": {},
   "duration": 24.768977,
   "end_time": "2021-07-12T05:13:11.751508",
   "environment_variables": {},
   "exception": null,
   "input_path": "__notebook__.ipynb",
   "output_path": "__notebook__.ipynb",
   "parameters": {},
   "start_time": "2021-07-12T05:12:46.982531",
   "version": "2.3.3"
  }
 },
 "nbformat": 4,
 "nbformat_minor": 5
}
